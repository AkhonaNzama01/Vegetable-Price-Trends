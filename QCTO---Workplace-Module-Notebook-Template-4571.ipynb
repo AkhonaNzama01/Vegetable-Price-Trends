{
 "cells": [
  {
   "cell_type": "markdown",
   "metadata": {},
   "source": [
    "# QCTO - Workplace Module\n",
    "\n",
    "### Project Title: Vegetable Price Trends: A Comprehensive Time-Series Analysis\n",
    "#### Done By: Akhona Nzama\n",
    "\n",
    "© ExploreAI 2024\n",
    "\n",
    "---\n",
    "\n",
    "## Table of Contents\n",
    "\n",
    "<a href=#BC> Background Context</a>\n",
    "\n",
    "<a href=#one>1. Importing Packages</a>\n",
    "\n",
    "<a href=#two>2. Data Collection and Description</a>\n",
    "\n",
    "<a href=#three>3. Loading Data </a>\n",
    "\n",
    "<a href=#four>4. Data Cleaning and Filtering</a>\n",
    "\n",
    "<a href=#five>5. Exploratory Data Analysis (EDA)</a>\n",
    "\n",
    "<a href=#six>6. Modeling </a>\n",
    "\n",
    "<a href=#seven>7. Evaluation and Validation</a>\n",
    "\n",
    "<a href=#eight>8. Final Model</a>\n",
    "\n",
    "<a href=#nine>9. Conclusion and Future Work</a>\n",
    "\n",
    "<a href=#ten>10. References</a>"
   ]
  },
  {
   "cell_type": "markdown",
   "metadata": {},
   "source": [
    "---\n",
    "<a id=\"BC\"></a>\n",
    "## **Background Context**  \n",
    "<a href=#cont>Back to Table of Contents</a>\n",
    "\n",
    "* **Purpose:**  \n",
    "   The purpose of this project is to analyze the time-series data of vegetable prices across various regions and periods. By exploring pricing trends, the project aims to provide insights that can be useful for farmers, consumers, policy makers, and market analysts in understanding how prices fluctuate over time. This can assist in forecasting, better planning, and strategic decision-making in agriculture and food markets.\n",
    "\n",
    "* **Details:**  \n",
    "   - **Problem Domain:** Price volatility in agricultural markets can impact food security, economic stability, and decision-making for stakeholders. This project focuses on exploring the dynamics of vegetable prices.\n",
    "   - **Significance:** Tracking the historical price trends and identifying patterns can optimize supply chains, inform policy decisions, and predict future price movements.\n",
    "   - **Key Questions:**  \n",
    "     - What trends can be identified in vegetable prices over the given period?  \n",
    "     - Are there any specific vegetables that experience more volatility in price than others?  \n",
    "     - How can this data be used to forecast future vegetable prices?  \n",
    "\n"
   ]
  },
  {
   "cell_type": "markdown",
   "metadata": {},
   "source": [
    "---\n",
    "<a href=#one></a>\n",
    "## **Importing Packages**\n",
    "<a href=#cont>Back to Table of Contents</a>\n",
    "\n",
    "* **Purpose:** Set up the Python environment with necessary libraries and tools.\n",
    "* **Details:** List and import all the Python packages that will be used throughout the project such as Pandas for data manipulation, Matplotlib/Seaborn for visualization, scikit-learn for modeling, etc.\n",
    "---"
   ]
  },
  {
   "cell_type": "code",
   "execution_count": 1,
   "metadata": {},
   "outputs": [],
   "source": [
    "#Please use code cells to code in and do not forget to comment your code.\n",
    "# Importing necessary packages\n",
    "import pandas as pd\n",
    "import numpy as np\n",
    "from scipy import stats\n",
    "import matplotlib.pyplot as plt\n",
    "import seaborn as sns\n",
    "# Libraries for time series analysis\n",
    "from statsmodels.tsa.arima_model import ARIMA\n",
    "import datetime\n",
    "# For statistical analysis\n",
    "import statsmodels.api as sm\n",
    "\n"
   ]
  },
  {
   "cell_type": "markdown",
   "metadata": {},
   "source": [
    "---\n",
    "<a href=#two></a>\n",
    "## **Data Collection and Description**\n",
    "<a href=#cont>Back to Table of Contents</a>\n",
    "\n",
    "* **Purpose:** Describe how the data was collected and provide an overview of its characteristics.\n",
    "* **Details:** Mention sources of the data, the methods used for collection (e.g., APIs, web scraping, datasets from repositories), and a general description of the dataset including size, scope, and types of data available (e.g., numerical, categorical).\n",
    "---"
   ]
  },
  {
   "cell_type": "markdown",
   "metadata": {},
   "source": [
    "\n",
    "\n",
    "* **Purpose:** This section provides an overview of how the vegetable prices data was collected and describes the dataset's characteristics. It is crucial for understanding the data's context and scope, which will guide the subsequent analysis.\n",
    "\n",
    "* **Details:** \n",
    "  - **Source:** The dataset was sourced from [Agmarknet](https://agmarknet.gov.in/), an authorized portal that tracks agricultural market prices in India. The dataset was made available on Kaggle, providing extensive data on vegetable prices.\n",
    "\n",
    "  - **Collection Method:** The data was collected through official channels, ensuring its accuracy and relevance. It includes price records for a variety of vegetables over a specific period.\n",
    "\n",
    "  - **Size and Scope:** \n",
    "    - **Number of Rows:** 287\n",
    "    - **Number of Columns:** 11\n",
    "    - The dataset spans multiple dates and includes prices for various vegetables. It covers a range of dates and provides detailed price information, which allows for comprehensive time-series analysis.\n",
    "\n",
    "  - **Column Names and Data Types:**\n",
    "    - `Price Dates`: Object (string) \n",
    "    - `Bhindi (Ladies finger)`: Float64 \n",
    "    - `Tomato`: Int64 \n",
    "    - `Onion`: Float64 \n",
    "    - `Potato`: Int64 \n",
    "    - `Brinjal`: Int64 \n",
    "    - `Garlic`: Int64 \n",
    "    - `Peas`: Int64 \n",
    "    - `Methi`: Int64 \n",
    "    - `Green Chilli`: Float64 \n",
    "    - `Elephant Yam (Suran)`: Int64 \n",
    "\n",
    "  - **Data Types:**\n",
    "    - **Numerical Data:** Includes prices of vegetables in various formats (integers and floats).\n",
    "    - **Categorical Data:** The `Price Dates` column is an object type, representing dates.\n",
    "\n",
    "  - **Summary Statistics:** \n",
    "    - The dataset provides insights into the average prices, variability, and range for each vegetable. For instance, the average price of Bhindi is 29.44 Rupees, while Garlic shows significant variability with prices ranging from 50 to 290 Rupees.\n",
    "\n",
    "This dataset is a valuable resource for analyzing pricing trends and making forecasts based on historical data.\n"
   ]
  },
  {
   "cell_type": "markdown",
   "metadata": {},
   "source": [
    "---\n",
    "<a href=#three></a>\n",
    "## **Loading Data**\n",
    "<a href=#cont>Back to Table of Contents</a>\n",
    "\n",
    "* **Purpose:** Load the data into the notebook for manipulation and analysis.\n",
    "* **Details:** Show the code used to load the data and display the first few rows to give a sense of what the raw data looks like.\n",
    "---"
   ]
  },
  {
   "cell_type": "code",
   "execution_count": 2,
   "metadata": {},
   "outputs": [
    {
     "name": "stdout",
     "output_type": "stream",
     "text": [
      "  Price Dates  Bhindi (Ladies finger)  Tomato  Onion  Potato  Brinjal  Garlic  \\\n",
      "0  01-01-2023                    35.0      18   22.0      20       30      50   \n",
      "1  02-01-2023                    35.0      16   22.0      20       30      55   \n",
      "2  03-01-2023                    35.0      16   21.0      20       30      55   \n",
      "3  04-01-2023                    30.0      16   21.0      22       25      55   \n",
      "4  08-01-2023                    35.0      16   20.0      21       25      55   \n",
      "\n",
      "   Peas  Methi  Green Chilli  Elephant Yam (Suran)  \n",
      "0    25      8          45.0                    25  \n",
      "1    25      7          40.0                    25  \n",
      "2    25      7          40.0                    25  \n",
      "3    25      7          40.0                    25  \n",
      "4    22      6          35.0                    25  \n"
     ]
    }
   ],
   "source": [
    "#Please use code cells to code in and do not forget to comment your code.\n",
    "# Load the dataset\n",
    "data_path = 'prices.csv'  \n",
    "df = pd.read_csv(data_path)\n",
    "\n",
    "# Check the first few rows of the dataset\n",
    "print(df.head())"
   ]
  },
  {
   "cell_type": "markdown",
   "metadata": {},
   "source": [
    "---\n",
    "<a href=#four></a>\n",
    "## **Data Cleaning and Filtering**\n",
    "<a href=#cont>Back to Table of Contents</a>\n",
    "\n",
    "* **Purpose:** Prepare the data for analysis by cleaning and filtering.\n",
    "* **Details:** Include steps for handling missing values, removing outliers, correcting errors, and possibly reducing the data (filtering based on certain criteria or features).\n",
    "---"
   ]
  },
  {
   "cell_type": "code",
   "execution_count": 3,
   "metadata": {},
   "outputs": [
    {
     "name": "stdout",
     "output_type": "stream",
     "text": [
      "Missing values per column:\n",
      "Price Dates               0\n",
      "Bhindi (Ladies finger)    0\n",
      "Tomato                    0\n",
      "Onion                     0\n",
      "Potato                    0\n",
      "Brinjal                   0\n",
      "Garlic                    0\n",
      "Peas                      0\n",
      "Methi                     0\n",
      "Green Chilli              0\n",
      "Elephant Yam (Suran)      0\n",
      "dtype: int64\n",
      "Summary statistics:\n",
      "       Bhindi (Ladies finger)      Tomato       Onion      Potato     Brinjal  \\\n",
      "count              287.000000  287.000000  287.000000  287.000000  287.000000   \n",
      "mean                29.444251   16.006969   20.649826   18.585366   31.655052   \n",
      "std                  8.124815    0.118056   11.711204    2.726238   11.725421   \n",
      "min                 17.000000   16.000000    8.000000   12.000000   14.000000   \n",
      "25%                 22.000000   16.000000   12.000000   16.000000   25.000000   \n",
      "50%                 27.500000   16.000000   16.000000   20.000000   30.000000   \n",
      "75%                 33.000000   16.000000   25.000000   20.000000   35.000000   \n",
      "max                 60.000000   18.000000   57.000000   24.000000   80.000000   \n",
      "\n",
      "           Garlic        Peas        Methi  Green Chilli  Elephant Yam (Suran)  \n",
      "count  287.000000  287.000000   287.000000    287.000000            287.000000  \n",
      "mean   133.101045   66.658537    20.383275     44.122404             28.797909  \n",
      "std     60.078331   33.302415   117.428417     12.796590              6.607973  \n",
      "min     50.000000   22.000000     5.000000      0.130000             12.000000  \n",
      "25%     85.000000   40.000000     8.000000     35.000000             25.000000  \n",
      "50%    120.000000   60.000000    12.000000     40.000000             30.000000  \n",
      "75%    165.000000   80.000000    16.000000     50.000000             30.000000  \n",
      "max    290.000000  150.000000  2000.000000     90.000000             50.000000  \n",
      "Number of duplicate rows: 0\n"
     ]
    }
   ],
   "source": [
    "#Please use code cells to code in and do not forget to comment your code.\n",
    "# Check for missing values\n",
    "print(\"Missing values per column:\")\n",
    "print(df.isnull().sum())\n",
    "\n",
    "# Display summary statistics\n",
    "print(\"Summary statistics:\")\n",
    "print(df.describe())\n",
    "\n",
    "# Check for duplicate rows\n",
    "print(f\"Number of duplicate rows: {df.duplicated().sum()}\")\n",
    "\n"
   ]
  },
  {
   "cell_type": "code",
   "execution_count": 4,
   "metadata": {},
   "outputs": [],
   "source": [
    "# Define a function to remove outliers based on Z-score\n",
    "def remove_outliers(df, column):\n",
    "    z_scores = stats.zscore(df[column])\n",
    "    abs_z_scores = np.abs(z_scores)\n",
    "    return df[(abs_z_scores < 3)]\n",
    "\n",
    "# Apply the function to relevant columns\n",
    "for column in df.select_dtypes(include=['float64', 'int64']).columns:\n",
    "    df = remove_outliers(df, column)\n"
   ]
  },
  {
   "cell_type": "code",
   "execution_count": 5,
   "metadata": {},
   "outputs": [
    {
     "name": "stdout",
     "output_type": "stream",
     "text": [
      "Data types after correction:\n",
      "Price Dates               datetime64[ns]\n",
      "Bhindi (Ladies finger)           float64\n",
      "Tomato                             int64\n",
      "Onion                            float64\n",
      "Potato                             int64\n",
      "Brinjal                            int64\n",
      "Garlic                             int64\n",
      "Peas                               int64\n",
      "Methi                              int64\n",
      "Green Chilli                     float64\n",
      "Elephant Yam (Suran)               int64\n",
      "dtype: object\n"
     ]
    }
   ],
   "source": [
    "# Ensure 'Price Dates' is in datetime format\n",
    "df['Price Dates'] = pd.to_datetime(df['Price Dates'], errors='coerce')\n",
    "\n",
    "# Check for any remaining errors or inconsistencies\n",
    "print(\"Data types after correction:\")\n",
    "print(df.dtypes)\n"
   ]
  },
  {
   "cell_type": "markdown",
   "metadata": {},
   "source": [
    "---\n",
    "<a href=#five></a>\n",
    "## **Exploratory Data Analysis (EDA)**\n",
    "<a href=#cont>Back to Table of Contents</a>\n",
    "\n",
    "* **Purpose:** Explore and visualize the data to uncover patterns, trends, and relationships.\n",
    "* **Details:** Use statistics and visualizations to explore the data. This may include histograms, box plots, scatter plots, and correlation matrices. Discuss any significant findings.\n",
    "---\n"
   ]
  },
  {
   "cell_type": "code",
   "execution_count": 6,
   "metadata": {},
   "outputs": [],
   "source": [
    "#Please use code cells to code in and do not forget to comment your code."
   ]
  },
  {
   "cell_type": "markdown",
   "metadata": {},
   "source": [
    "---\n",
    "<a href=#six></a>\n",
    "## **Modeling**\n",
    "<a href=#cont>Back to Table of Contents</a>\n",
    "\n",
    "* **Purpose:** Develop and train predictive or statistical models.\n",
    "* **Details:** Describe the choice of models, feature selection and engineering processes, and show how the models are trained. Include code for setting up the models and explanations of the model parameters.\n",
    "---\n"
   ]
  },
  {
   "cell_type": "code",
   "execution_count": 7,
   "metadata": {},
   "outputs": [],
   "source": [
    "#Please use code cells to code in and do not forget to comment your code."
   ]
  },
  {
   "cell_type": "markdown",
   "metadata": {},
   "source": [
    "---\n",
    "<a href=#seven></a>\n",
    "## **Evaluation and Validation**\n",
    "<a href=#cont>Back to Table of Contents</a>\n",
    "\n",
    "* **Purpose:** Evaluate and validate the effectiveness and accuracy of the models.\n",
    "* **Details:** Present metrics used to evaluate the models, such as accuracy, precision, recall, F1-score, etc. Discuss validation techniques employed, such as cross-validation or train/test split.\n",
    "---"
   ]
  },
  {
   "cell_type": "code",
   "execution_count": 8,
   "metadata": {},
   "outputs": [],
   "source": [
    "#Please use code cells to code in and do not forget to comment your code."
   ]
  },
  {
   "cell_type": "markdown",
   "metadata": {},
   "source": [
    "---\n",
    "<a href=#eight></a>\n",
    "## **Final Model**\n",
    "<a href=#cont>Back to Table of Contents</a>\n",
    "\n",
    "* **Purpose:** Present the final model and its performance.\n",
    "* **Details:** Highlight the best-performing model and discuss its configuration, performance, and why it was chosen over others.\n",
    "---\n"
   ]
  },
  {
   "cell_type": "code",
   "execution_count": 9,
   "metadata": {},
   "outputs": [],
   "source": [
    "#Please use code cells to code in and do not forget to comment your code."
   ]
  },
  {
   "cell_type": "markdown",
   "metadata": {},
   "source": [
    "---\n",
    "<a href=#nine></a>\n",
    "## **Conclusion and Future Work**\n",
    "<a href=#cont>Back to Table of Contents</a>\n",
    "\n",
    "* **Purpose:** Summarize the findings and discuss future directions.\n",
    "* **Details:** Conclude with a summary of the results, insights gained, limitations of the study, and suggestions for future projects or improvements in methodology or data collection.\n",
    "---\n"
   ]
  },
  {
   "cell_type": "code",
   "execution_count": 10,
   "metadata": {},
   "outputs": [],
   "source": [
    "#Please use code cells to code in and do not forget to comment your code."
   ]
  },
  {
   "cell_type": "markdown",
   "metadata": {},
   "source": [
    "---\n",
    "<a href=#ten></a>\n",
    "## **References**\n",
    "<a href=#cont>Back to Table of Contents</a>\n",
    "\n",
    "* **Purpose:** Provide citations and sources of external content.\n",
    "* **Details:** List all the references and sources consulted during the project, including data sources, research papers, and documentation for tools and libraries used.\n",
    "---"
   ]
  },
  {
   "cell_type": "code",
   "execution_count": 11,
   "metadata": {},
   "outputs": [],
   "source": [
    "#Please use code cells to code in and do not forget to comment your code."
   ]
  },
  {
   "cell_type": "markdown",
   "metadata": {},
   "source": [
    "## Additional Sections to Consider\n",
    "\n",
    "* ### Appendix: \n",
    "For any additional code, detailed tables, or extended data visualizations that are supplementary to the main content.\n",
    "\n",
    "* ### Contributors: \n",
    "If this is a group project, list the contributors and their roles or contributions to the project.\n"
   ]
  },
  {
   "cell_type": "markdown",
   "metadata": {},
   "source": [
    "## Trello and Github link\n",
    "\n",
    "https://github.com/AkhonaNzama01/Vegetable-Price-Trends.git\n",
    "https://trello.com/invite/b/66ed5107c2fac978ad9d6c11/ATTIdbc18aaf19ce083c2e358aa239f0963841768682/vegetable-price-trends-project-board"
   ]
  }
 ],
 "metadata": {
  "kernelspec": {
   "display_name": "Python 3",
   "language": "python",
   "name": "python3"
  },
  "language_info": {
   "codemirror_mode": {
    "name": "ipython",
    "version": 3
   },
   "file_extension": ".py",
   "mimetype": "text/x-python",
   "name": "python",
   "nbconvert_exporter": "python",
   "pygments_lexer": "ipython3",
   "version": "3.12.2"
  },
  "orig_nbformat": 4
 },
 "nbformat": 4,
 "nbformat_minor": 2
}
